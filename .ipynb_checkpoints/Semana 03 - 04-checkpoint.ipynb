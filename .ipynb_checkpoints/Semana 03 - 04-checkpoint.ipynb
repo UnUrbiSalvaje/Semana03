{
 "cells": [
  {
   "cell_type": "raw",
   "id": "81030762",
   "metadata": {},
   "source": [
    "4. Ingreso de datos por teclado"
   ]
  },
  {
   "cell_type": "code",
   "execution_count": 2,
   "id": "56502762",
   "metadata": {},
   "outputs": [
    {
     "name": "stdout",
     "output_type": "stream",
     "text": [
      "¿Cúal es tu nombre?\n",
      "Antony\n",
      "Hola Antony\n"
     ]
    }
   ],
   "source": [
    "# Función input \n",
    "print (\"¿Cúal es tu nombre?\")\n",
    "nombre = input()\n",
    "print (\"Hola \" + nombre)"
   ]
  },
  {
   "cell_type": "code",
   "execution_count": 5,
   "id": "c0cd0304",
   "metadata": {},
   "outputs": [
    {
     "name": "stdout",
     "output_type": "stream",
     "text": [
      "Número 1: \n",
      "4\n",
      "Número 2: \n",
      "6\n",
      "El resultado es 10\n"
     ]
    }
   ],
   "source": [
    "# Cuando ingresas un valor por teclado lo hace como cadena\n",
    "print (\"Número 1: \")\n",
    "numero1 = input()\n",
    "print (\"Número 2: \")\n",
    "numero2 = input()\n",
    "numero3 = int(numero1) + int(numero2)\n",
    "print (f\"El resultado es {numero3}\")"
   ]
  },
  {
   "cell_type": "code",
   "execution_count": null,
   "id": "8689c109",
   "metadata": {},
   "outputs": [],
   "source": []
  }
 ],
 "metadata": {
  "kernelspec": {
   "display_name": "Python 3 (ipykernel)",
   "language": "python",
   "name": "python3"
  },
  "language_info": {
   "codemirror_mode": {
    "name": "ipython",
    "version": 3
   },
   "file_extension": ".py",
   "mimetype": "text/x-python",
   "name": "python",
   "nbconvert_exporter": "python",
   "pygments_lexer": "ipython3",
   "version": "3.11.4"
  }
 },
 "nbformat": 4,
 "nbformat_minor": 5
}
