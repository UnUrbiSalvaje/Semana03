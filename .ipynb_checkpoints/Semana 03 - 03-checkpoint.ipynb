{
 "cells": [
  {
   "cell_type": "raw",
   "id": "e02460c6",
   "metadata": {},
   "source": [
    "3. Manejo de cadenas"
   ]
  },
  {
   "cell_type": "code",
   "execution_count": 3,
   "id": "c6567fb2",
   "metadata": {},
   "outputs": [
    {
     "data": {
      "text/plain": [
       "'Universidad Nacional Tecnológica de Lima Sur'"
      ]
     },
     "execution_count": 3,
     "metadata": {},
     "output_type": "execute_result"
    }
   ],
   "source": [
    "cadena = \"Universidad Nacional Tecnológica de Lima Sur\"\n",
    "cadena"
   ]
  },
  {
   "cell_type": "code",
   "execution_count": 4,
   "id": "ed3b0b16",
   "metadata": {},
   "outputs": [],
   "source": [
    "# Universidad Nacional Tecnológica de Lima Sur\n",
    "# 0, 1, 2, 3, ...\n",
    "#                ... -3, -2, -1"
   ]
  },
  {
   "cell_type": "code",
   "execution_count": 6,
   "id": "3c0571be",
   "metadata": {},
   "outputs": [
    {
     "data": {
      "text/plain": [
       "'r'"
      ]
     },
     "execution_count": 6,
     "metadata": {},
     "output_type": "execute_result"
    }
   ],
   "source": [
    "cadena [5]"
   ]
  },
  {
   "cell_type": "code",
   "execution_count": 7,
   "id": "d12aee54",
   "metadata": {},
   "outputs": [
    {
     "data": {
      "text/plain": [
       "'T'"
      ]
     },
     "execution_count": 7,
     "metadata": {},
     "output_type": "execute_result"
    }
   ],
   "source": [
    "cadena [21]"
   ]
  },
  {
   "cell_type": "code",
   "execution_count": 8,
   "id": "942b6577",
   "metadata": {},
   "outputs": [
    {
     "data": {
      "text/plain": [
       "'T'"
      ]
     },
     "execution_count": 8,
     "metadata": {},
     "output_type": "execute_result"
    }
   ],
   "source": [
    "cadena [-23]"
   ]
  },
  {
   "cell_type": "code",
   "execution_count": 9,
   "id": "11f59c71",
   "metadata": {},
   "outputs": [
    {
     "data": {
      "text/plain": [
       "' '"
      ]
     },
     "execution_count": 9,
     "metadata": {},
     "output_type": "execute_result"
    }
   ],
   "source": [
    "cadena [11]"
   ]
  },
  {
   "cell_type": "code",
   "execution_count": 11,
   "id": "234dc0b7",
   "metadata": {},
   "outputs": [
    {
     "data": {
      "text/plain": [
       "'versi'"
      ]
     },
     "execution_count": 11,
     "metadata": {},
     "output_type": "execute_result"
    }
   ],
   "source": [
    "# Para mostrar una subcadena [desde, hasta un antes]\n",
    "# En java era substring()\n",
    "cadena [3:8]"
   ]
  },
  {
   "cell_type": "code",
   "execution_count": 12,
   "id": "c09b66c0",
   "metadata": {},
   "outputs": [
    {
     "data": {
      "text/plain": [
       "44"
      ]
     },
     "execution_count": 12,
     "metadata": {},
     "output_type": "execute_result"
    }
   ],
   "source": [
    "# Para saber el tamaño de mi cadena utilizamos len()\n",
    "# Incluye espacios en blanco\n",
    "len (cadena)"
   ]
  },
  {
   "cell_type": "code",
   "execution_count": 13,
   "id": "ea23d5e1",
   "metadata": {},
   "outputs": [
    {
     "data": {
      "text/plain": [
       "'UNIVERSIDAD NACIONAL TECNOLÓGICA DE LIMA SUR'"
      ]
     },
     "execution_count": 13,
     "metadata": {},
     "output_type": "execute_result"
    }
   ],
   "source": [
    "# Mostrar una cadena con mayúscula upper()\n",
    "cadena.upper()"
   ]
  },
  {
   "cell_type": "code",
   "execution_count": 14,
   "id": "b3e460f5",
   "metadata": {},
   "outputs": [
    {
     "data": {
      "text/plain": [
       "'universidad nacional tecnológica de lima sur'"
      ]
     },
     "execution_count": 14,
     "metadata": {},
     "output_type": "execute_result"
    }
   ],
   "source": [
    "# Mostrar una cadena en minúscula lower()\n",
    "cadena.lower()"
   ]
  },
  {
   "cell_type": "code",
   "execution_count": 15,
   "id": "5d0066c7",
   "metadata": {},
   "outputs": [
    {
     "data": {
      "text/plain": [
       "['Universidad', 'Nacional', 'Tecnológica', 'de', 'Lima', 'Sur']"
      ]
     },
     "execution_count": 15,
     "metadata": {},
     "output_type": "execute_result"
    }
   ],
   "source": [
    "# Generar una lista a partir de la cadena.split()\n",
    "cadena.split()"
   ]
  },
  {
   "cell_type": "code",
   "execution_count": 16,
   "id": "a60701ba",
   "metadata": {},
   "outputs": [
    {
     "data": {
      "text/plain": [
       "['U', 'iversidad Nacio', 'al Tec', 'ológica de Lima Sur']"
      ]
     },
     "execution_count": 16,
     "metadata": {},
     "output_type": "execute_result"
    }
   ],
   "source": [
    "# Generar una lista utilizando un criterio de separación a partir de la cadena.split\n",
    "# En este caso vamos a generar uan lista de toda la cadena\n",
    "# Utilizando como criterio de separación la letra \"A\"\n",
    "cadena.split(\"n\")"
   ]
  },
  {
   "cell_type": "code",
   "execution_count": 17,
   "id": "7b299dd5",
   "metadata": {},
   "outputs": [
    {
     "name": "stdout",
     "output_type": "stream",
     "text": [
      "Buenos Días Jhon Antony Urbisagastegui Huamani\n"
     ]
    }
   ],
   "source": [
    "# Forma clásica, concatenar con +\n",
    "nombre = \"Jhon Antony Urbisagastegui Huamani\"\n",
    "print (\"Buenos Días\" + \" \" + nombre)"
   ]
  },
  {
   "cell_type": "code",
   "execution_count": 18,
   "id": "f711b43d",
   "metadata": {},
   "outputs": [
    {
     "name": "stdout",
     "output_type": "stream",
     "text": [
      "Hola Carlos Curo Ramos ya se que tienes 19 años\n"
     ]
    }
   ],
   "source": [
    "# Utilizamos el .fomart()\n",
    "nombre = \"Carlos Curo Ramos\"\n",
    "edad = 19\n",
    "print (\"Hola {} ya se que tienes {} años\" .format(nombre,edad))"
   ]
  },
  {
   "cell_type": "code",
   "execution_count": 19,
   "id": "5ab6b3dd",
   "metadata": {},
   "outputs": [
    {
     "name": "stdout",
     "output_type": "stream",
     "text": [
      "10/3 es = 3.3333333333333335\n",
      "10/3 es = 3.33\n"
     ]
    }
   ],
   "source": [
    "# Dar formato a números con muchos decimales\n",
    "resultado = 10/3\n",
    "print (\"10/3 es = {}\" .format(resultado))\n",
    "print (\"10/3 es = {r:1.2f}\" .format(r=resultado))"
   ]
  },
  {
   "cell_type": "code",
   "execution_count": 20,
   "id": "a173f17e",
   "metadata": {},
   "outputs": [
    {
     "name": "stdout",
     "output_type": "stream",
     "text": [
      "Buenos días Elias Samuel Talledo Vega, ya sé que te gustan las que tiene 9 años\n"
     ]
    }
   ],
   "source": [
    "# Dar formato con f\n",
    "# La función f, está disponible desde la versión 3.6\n",
    "nombre = \"Elias Samuel Talledo Vega\"\n",
    "edad = 9\n",
    "print (f\"Buenos días {nombre}, ya sé que te gustan las que tiene {edad} años\")"
   ]
  },
  {
   "cell_type": "code",
   "execution_count": 22,
   "id": "8799ebc8",
   "metadata": {},
   "outputs": [
    {
     "name": "stdout",
     "output_type": "stream",
     "text": [
      "10/3 es 3.3333333333333335\n",
      "10/3 es 3.33\n"
     ]
    }
   ],
   "source": [
    "# Dar formato a números con muchos decimales con f\n",
    "resultado = 10/3\n",
    "print(f\"10/3 es {resultado}\")\n",
    "print(f\"10/3 es {resultado:1.2f}\")"
   ]
  },
  {
   "cell_type": "code",
   "execution_count": null,
   "id": "0a157c5e",
   "metadata": {},
   "outputs": [],
   "source": []
  }
 ],
 "metadata": {
  "kernelspec": {
   "display_name": "Python 3 (ipykernel)",
   "language": "python",
   "name": "python3"
  },
  "language_info": {
   "codemirror_mode": {
    "name": "ipython",
    "version": 3
   },
   "file_extension": ".py",
   "mimetype": "text/x-python",
   "name": "python",
   "nbconvert_exporter": "python",
   "pygments_lexer": "ipython3",
   "version": "3.11.4"
  }
 },
 "nbformat": 4,
 "nbformat_minor": 5
}
