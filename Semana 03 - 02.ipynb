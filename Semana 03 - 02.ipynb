{
 "cells": [
  {
   "cell_type": "raw",
   "id": "f1922c36",
   "metadata": {},
   "source": [
    "2. Variables"
   ]
  },
  {
   "cell_type": "code",
   "execution_count": 1,
   "id": "651853d2",
   "metadata": {},
   "outputs": [],
   "source": [
    "# Siempre deben iniciar con una letra o un guion abajo\n",
    "# Nunca con número u otro símbolo"
   ]
  },
  {
   "cell_type": "code",
   "execution_count": 2,
   "id": "c7345166",
   "metadata": {},
   "outputs": [],
   "source": [
    "edad = 20"
   ]
  },
  {
   "cell_type": "code",
   "execution_count": 3,
   "id": "6834f3ea",
   "metadata": {},
   "outputs": [
    {
     "data": {
      "text/plain": [
       "20"
      ]
     },
     "execution_count": 3,
     "metadata": {},
     "output_type": "execute_result"
    }
   ],
   "source": [
    "edad"
   ]
  },
  {
   "cell_type": "code",
   "execution_count": 6,
   "id": "9e785c1b",
   "metadata": {},
   "outputs": [],
   "source": [
    "nombre = \"Jhon Antony\""
   ]
  },
  {
   "cell_type": "code",
   "execution_count": 7,
   "id": "82113b93",
   "metadata": {},
   "outputs": [
    {
     "data": {
      "text/plain": [
       "'Jhon Antony'"
      ]
     },
     "execution_count": 7,
     "metadata": {},
     "output_type": "execute_result"
    }
   ],
   "source": [
    "nombre"
   ]
  },
  {
   "cell_type": "code",
   "execution_count": 8,
   "id": "7b467bfb",
   "metadata": {},
   "outputs": [],
   "source": [
    "apellido = \"Urbisagastegui Huamani\""
   ]
  },
  {
   "cell_type": "code",
   "execution_count": 9,
   "id": "79d18614",
   "metadata": {},
   "outputs": [
    {
     "data": {
      "text/plain": [
       "'Urbisagastegui Huamani'"
      ]
     },
     "execution_count": 9,
     "metadata": {},
     "output_type": "execute_result"
    }
   ],
   "source": [
    "apellido"
   ]
  },
  {
   "cell_type": "code",
   "execution_count": 10,
   "id": "6a419478",
   "metadata": {},
   "outputs": [],
   "source": [
    "nombrecompleto = nombre + \" \" + apellido"
   ]
  },
  {
   "cell_type": "code",
   "execution_count": 11,
   "id": "07b9561f",
   "metadata": {},
   "outputs": [
    {
     "data": {
      "text/plain": [
       "'Jhon Antony Urbisagastegui Huamani'"
      ]
     },
     "execution_count": 11,
     "metadata": {},
     "output_type": "execute_result"
    }
   ],
   "source": [
    "nombrecompleto"
   ]
  },
  {
   "cell_type": "code",
   "execution_count": 12,
   "id": "2fe11d99",
   "metadata": {},
   "outputs": [],
   "source": [
    "# Para saber el tipo de variable utilizamos la función type ()\n",
    "# Por ejemplo"
   ]
  },
  {
   "cell_type": "code",
   "execution_count": 13,
   "id": "11cc3c9f",
   "metadata": {},
   "outputs": [],
   "source": [
    "numero = 50"
   ]
  },
  {
   "cell_type": "code",
   "execution_count": 14,
   "id": "d7e424b1",
   "metadata": {},
   "outputs": [
    {
     "data": {
      "text/plain": [
       "int"
      ]
     },
     "execution_count": 14,
     "metadata": {},
     "output_type": "execute_result"
    }
   ],
   "source": [
    "type(numero)"
   ]
  },
  {
   "cell_type": "code",
   "execution_count": 15,
   "id": "b2172031",
   "metadata": {},
   "outputs": [
    {
     "data": {
      "text/plain": [
       "'Jhon Antony'"
      ]
     },
     "execution_count": 15,
     "metadata": {},
     "output_type": "execute_result"
    }
   ],
   "source": [
    "nombre"
   ]
  },
  {
   "cell_type": "code",
   "execution_count": 17,
   "id": "ff0bc5b8",
   "metadata": {},
   "outputs": [
    {
     "data": {
      "text/plain": [
       "str"
      ]
     },
     "execution_count": 17,
     "metadata": {},
     "output_type": "execute_result"
    }
   ],
   "source": [
    "type(nombre)"
   ]
  },
  {
   "cell_type": "code",
   "execution_count": 18,
   "id": "231e35e5",
   "metadata": {},
   "outputs": [],
   "source": [
    "talla = 1.70"
   ]
  },
  {
   "cell_type": "code",
   "execution_count": 19,
   "id": "8b0a3db2",
   "metadata": {},
   "outputs": [
    {
     "data": {
      "text/plain": [
       "1.7"
      ]
     },
     "execution_count": 19,
     "metadata": {},
     "output_type": "execute_result"
    }
   ],
   "source": [
    "talla"
   ]
  },
  {
   "cell_type": "code",
   "execution_count": 20,
   "id": "a5b62439",
   "metadata": {},
   "outputs": [
    {
     "data": {
      "text/plain": [
       "float"
      ]
     },
     "execution_count": 20,
     "metadata": {},
     "output_type": "execute_result"
    }
   ],
   "source": [
    "type(talla)"
   ]
  },
  {
   "cell_type": "code",
   "execution_count": 22,
   "id": "d9ccaeb8",
   "metadata": {},
   "outputs": [
    {
     "data": {
      "text/plain": [
       "'100'"
      ]
     },
     "execution_count": 22,
     "metadata": {},
     "output_type": "execute_result"
    }
   ],
   "source": [
    "numero = 100\n",
    "cadena = str(numero)\n",
    "cadena"
   ]
  },
  {
   "cell_type": "code",
   "execution_count": 24,
   "id": "6fba3a0e",
   "metadata": {},
   "outputs": [
    {
     "data": {
      "text/plain": [
       "50"
      ]
     },
     "execution_count": 24,
     "metadata": {},
     "output_type": "execute_result"
    }
   ],
   "source": [
    "cadena2 = \"50\"\n",
    "numero2 = int(cadena2)\n",
    "numero2"
   ]
  },
  {
   "cell_type": "code",
   "execution_count": 25,
   "id": "853913cd",
   "metadata": {},
   "outputs": [
    {
     "data": {
      "text/plain": [
       "int"
      ]
     },
     "execution_count": 25,
     "metadata": {},
     "output_type": "execute_result"
    }
   ],
   "source": [
    "type(numero2)"
   ]
  },
  {
   "cell_type": "code",
   "execution_count": null,
   "id": "1f60a601",
   "metadata": {},
   "outputs": [],
   "source": []
  }
 ],
 "metadata": {
  "kernelspec": {
   "display_name": "Python 3 (ipykernel)",
   "language": "python",
   "name": "python3"
  },
  "language_info": {
   "codemirror_mode": {
    "name": "ipython",
    "version": 3
   },
   "file_extension": ".py",
   "mimetype": "text/x-python",
   "name": "python",
   "nbconvert_exporter": "python",
   "pygments_lexer": "ipython3",
   "version": "3.11.4"
  }
 },
 "nbformat": 4,
 "nbformat_minor": 5
}
